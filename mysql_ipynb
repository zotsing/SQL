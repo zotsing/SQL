https://mooc-az-13.oit.duke.edu:40071/notebooks/mysql_prac1.ipynb
